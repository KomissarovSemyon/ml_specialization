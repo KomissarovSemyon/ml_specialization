{
 "cells": [
  {
   "cell_type": "code",
   "execution_count": 25,
   "metadata": {},
   "outputs": [],
   "source": [
    "import pandas as pd\n",
    "import numpy as np\n",
    "from scipy import stats\n",
    "from tqdm import tqdm_notebook as tqdm"
   ]
  },
  {
   "cell_type": "code",
   "execution_count": 2,
   "metadata": {},
   "outputs": [],
   "source": [
    "data = pd.read_csv('gene_high_throughput_sequencing.csv')"
   ]
  },
  {
   "cell_type": "code",
   "execution_count": 9,
   "metadata": {},
   "outputs": [],
   "source": [
    "cols = data.drop(['Patient_id', 'Diagnosis'], axis=1).columns"
   ]
  },
  {
   "cell_type": "code",
   "execution_count": 26,
   "metadata": {},
   "outputs": [
    {
     "name": "stderr",
     "output_type": "stream",
     "text": [
      "/Users/s.komissarov/opt/anaconda3/envs/test/lib/python3.7/site-packages/ipykernel_launcher.py:7: TqdmDeprecationWarning: This function will be removed in tqdm==5.0.0\n",
      "Please use `tqdm.notebook.tqdm` instead of `tqdm.tqdm_notebook`\n",
      "  import sys\n"
     ]
    },
    {
     "data": {
      "application/vnd.jupyter.widget-view+json": {
       "model_id": "b62bac24bc5f421f907cca9af0a9e24e",
       "version_major": 2,
       "version_minor": 0
      },
      "text/plain": [
       "HBox(children=(FloatProgress(value=0.0, max=15748.0), HTML(value='')))"
      ]
     },
     "metadata": {},
     "output_type": "display_data"
    },
    {
     "name": "stdout",
     "output_type": "stream",
     "text": [
      "\n"
     ]
    }
   ],
   "source": [
    "res = {}\n",
    "\n",
    "normal = data[data['Diagnosis'] == 'normal']\n",
    "early = data[data['Diagnosis'] == 'early neoplasia']\n",
    "cancer = data[data['Diagnosis'] == 'cancer']\n",
    "\n",
    "for c in tqdm(cols):\n",
    "    p1 = stats.ttest_ind(normal[c], early[c], equal_var = False).pvalue\n",
    "    p2 = stats.ttest_ind(early[c], cancer[c], equal_var = False).pvalue\n",
    "    res[c] = [p1, p2]"
   ]
  },
  {
   "cell_type": "code",
   "execution_count": 42,
   "metadata": {},
   "outputs": [
    {
     "data": {
      "text/plain": [
       "0    1575\n",
       "1    3490\n",
       "dtype: int64"
      ]
     },
     "execution_count": 42,
     "metadata": {},
     "output_type": "execute_result"
    }
   ],
   "source": [
    "res_df = pd.DataFrame(res)\n",
    "(res_df < 0.05).sum(axis=1)"
   ]
  },
  {
   "cell_type": "markdown",
   "metadata": {},
   "source": [
    "---"
   ]
  },
  {
   "cell_type": "code",
   "execution_count": 36,
   "metadata": {},
   "outputs": [
    {
     "name": "stderr",
     "output_type": "stream",
     "text": [
      "/Users/s.komissarov/opt/anaconda3/envs/test/lib/python3.7/site-packages/statsmodels/tools/_testing.py:19: FutureWarning: pandas.util.testing is deprecated. Use the functions in the public API at pandas.testing instead.\n",
      "  import pandas.util.testing as tm\n"
     ]
    }
   ],
   "source": [
    "import statsmodels.stats.multitest as smm"
   ]
  },
  {
   "cell_type": "code",
   "execution_count": 66,
   "metadata": {},
   "outputs": [],
   "source": [
    "def fold_change(control_mean, treatment_mean):\n",
    "    if treatment_mean > control_mean:\n",
    "        return treatment_mean / control_mean\n",
    "    else:\n",
    "        return - control_mean / treatment_mean\n",
    "\n",
    "new_df = res_df.T\n",
    "new_df['normal_mean'] = normal.mean()\n",
    "new_df['early_mean'] = early.mean()\n",
    "new_df['cancer_mean'] = cancer.mean()\n",
    "new_df['fc_1'] = new_df.apply(lambda x: fold_change(x['normal_mean'], x['early_mean']), axis=1)\n",
    "new_df['fc_2'] = new_df.apply(lambda x: fold_change(x['early_mean'], x['cancer_mean']), axis=1)\n",
    "new_df['p_1'] = smm.multipletests(res_df.iloc[0], method='holm')[1]\n",
    "new_df['p_2'] = smm.multipletests(res_df.iloc[1], method='holm')[1]"
   ]
  },
  {
   "cell_type": "code",
   "execution_count": 79,
   "metadata": {},
   "outputs": [
    {
     "name": "stdout",
     "output_type": "stream",
     "text": [
      "group1: 2\n",
      "group2: 77\n"
     ]
    }
   ],
   "source": [
    "print('group1: {}'.format(((new_df['p_1'] < 0.025) & (new_df['fc_1'].abs() > 1.5)).sum()))\n",
    "print('group2: {}'.format(((new_df['p_2'] < 0.025) & (new_df['fc_2'].abs() > 1.5)).sum()))"
   ]
  },
  {
   "cell_type": "code",
   "execution_count": 80,
   "metadata": {},
   "outputs": [],
   "source": [
    "new_df['np_1'] = smm.multipletests(res_df.iloc[0], method='fdr_bh')[1]\n",
    "new_df['np_2'] = smm.multipletests(res_df.iloc[1], method='fdr_bh')[1]"
   ]
  },
  {
   "cell_type": "code",
   "execution_count": 84,
   "metadata": {},
   "outputs": [
    {
     "name": "stdout",
     "output_type": "stream",
     "text": [
      "group1: 4\n",
      "group2: 524\n"
     ]
    }
   ],
   "source": [
    "print('group1: {}'.format(((new_df['np_1'] < 0.025) & (new_df['fc_1'].abs() > 1.5)).sum()))\n",
    "print('group2: {}'.format(((new_df['np_2'] < 0.025) & (new_df['fc_2'].abs() > 1.5)).sum()))"
   ]
  },
  {
   "cell_type": "code",
   "execution_count": null,
   "metadata": {},
   "outputs": [],
   "source": []
  },
  {
   "cell_type": "code",
   "execution_count": null,
   "metadata": {},
   "outputs": [],
   "source": []
  },
  {
   "cell_type": "code",
   "execution_count": null,
   "metadata": {},
   "outputs": [],
   "source": []
  },
  {
   "cell_type": "code",
   "execution_count": null,
   "metadata": {},
   "outputs": [],
   "source": []
  },
  {
   "cell_type": "code",
   "execution_count": null,
   "metadata": {},
   "outputs": [],
   "source": []
  }
 ],
 "metadata": {
  "kernelspec": {
   "display_name": "Python 3",
   "language": "python",
   "name": "python3"
  },
  "language_info": {
   "codemirror_mode": {
    "name": "ipython",
    "version": 3
   },
   "file_extension": ".py",
   "mimetype": "text/x-python",
   "name": "python",
   "nbconvert_exporter": "python",
   "pygments_lexer": "ipython3",
   "version": "3.7.6"
  }
 },
 "nbformat": 4,
 "nbformat_minor": 4
}
