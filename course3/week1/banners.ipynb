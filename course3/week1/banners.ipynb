{
 "cells": [
  {
   "cell_type": "code",
   "execution_count": 62,
   "metadata": {},
   "outputs": [],
   "source": [
    "import sqlite3\n",
    "import pandas as pd\n",
    "import numpy as np\n",
    "import seaborn as sns\n",
    "from matplotlib import pyplot as plt"
   ]
  },
  {
   "cell_type": "code",
   "execution_count": 86,
   "metadata": {},
   "outputs": [
    {
     "name": "stderr",
     "output_type": "stream",
     "text": [
      "/Users/s.komissarov/opt/anaconda3/envs/test/lib/python3.7/site-packages/IPython/core/interactiveshell.py:3051: DtypeWarning: Columns (0) have mixed types. Specify dtype option on import or set low_memory=False.\n",
      "  interactivity=interactivity, compiler=compiler, result=result)\n"
     ]
    }
   ],
   "source": [
    "data = pd.read_csv('umn_foursquare_datasets/checkins.dat', sep='|', skipinitialspace=True)\n",
    "data.columns = data.columns.map(str.strip)\n",
    "data = data.iloc[:-1]\n",
    "data = data[data['latitude'].notna()]\n",
    "data = data.iloc[:100000]"
   ]
  },
  {
   "cell_type": "code",
   "execution_count": 87,
   "metadata": {},
   "outputs": [],
   "source": [
    "from sklearn.cluster import MeanShift"
   ]
  },
  {
   "cell_type": "code",
   "execution_count": 89,
   "metadata": {},
   "outputs": [
    {
     "name": "stdout",
     "output_type": "stream",
     "text": [
      "CPU times: user 3min 6s, sys: 1.88 s, total: 3min 8s\n",
      "Wall time: 3min 10s\n"
     ]
    }
   ],
   "source": [
    "%%time\n",
    "ms = MeanShift(bandwidth=0.1)\n",
    "clusters = ms.fit_predict(data[['latitude', 'longitude']])"
   ]
  },
  {
   "cell_type": "code",
   "execution_count": 118,
   "metadata": {},
   "outputs": [],
   "source": [
    "offices = {\n",
    "    'Los Angeles' : [33.751277, -118.188740],\n",
    "    'Miami' : [25.867736, -80.324116],\n",
    "    'London' : [51.503016, -0.075479],\n",
    "    'Amsterdam' : [52.378894, 4.885084],\n",
    "    'Beijing' : [39.366487, 117.036146],\n",
    "    'Sydney' : [-33.868457, 151.205134]\n",
    "}"
   ]
  },
  {
   "cell_type": "code",
   "execution_count": 95,
   "metadata": {},
   "outputs": [],
   "source": [
    "clusters_ = pd.Series(clusters)"
   ]
  },
  {
   "cell_type": "code",
   "execution_count": 107,
   "metadata": {},
   "outputs": [
    {
     "data": {
      "text/plain": [
       "Int64Index([  0,   1,   2,   4,   3,   5,   6,   7,   8,   9,\n",
       "            ...\n",
       "            575, 578, 581, 593, 572, 590, 397, 579, 450, 573],\n",
       "           dtype='int64', length=592)"
      ]
     },
     "execution_count": 107,
     "metadata": {},
     "output_type": "execute_result"
    }
   ],
   "source": [
    "clusters_.value_counts()[clusters_.value_counts() > 15].index"
   ]
  },
  {
   "cell_type": "code",
   "execution_count": 113,
   "metadata": {},
   "outputs": [],
   "source": [
    "centres = ms.cluster_centers_[clusters_.value_counts()[clusters_.value_counts() > 15].index]"
   ]
  },
  {
   "cell_type": "code",
   "execution_count": 117,
   "metadata": {},
   "outputs": [],
   "source": [
    "point = centres[0] "
   ]
  },
  {
   "cell_type": "code",
   "execution_count": 123,
   "metadata": {},
   "outputs": [],
   "source": [
    "def distance(point):\n",
    "    dst = []\n",
    "    for p in offices.values():\n",
    "        dst.append(np.sqrt(np.sum((point - p) ** 2)))\n",
    "\n",
    "    return pd.Series(dst, index=offices.keys())"
   ]
  },
  {
   "cell_type": "code",
   "execution_count": 126,
   "metadata": {},
   "outputs": [],
   "source": [
    "centroids = pd.DataFrame(centres, columns=['lat', 'lon'])"
   ]
  },
  {
   "cell_type": "code",
   "execution_count": 129,
   "metadata": {},
   "outputs": [],
   "source": [
    "dst = centroids.apply(distance, axis=1)"
   ]
  },
  {
   "cell_type": "code",
   "execution_count": 131,
   "metadata": {},
   "outputs": [],
   "source": [
    "dst[['lat', 'lon']] = centroids[['lat', 'lon']]"
   ]
  },
  {
   "cell_type": "code",
   "execution_count": 137,
   "metadata": {},
   "outputs": [],
   "source": [
    "dst['min_dst'] = dst.iloc[:, :6].min(axis=1)"
   ]
  },
  {
   "cell_type": "code",
   "execution_count": 139,
   "metadata": {},
   "outputs": [
    {
     "data": {
      "text/html": [
       "<div>\n",
       "<style scoped>\n",
       "    .dataframe tbody tr th:only-of-type {\n",
       "        vertical-align: middle;\n",
       "    }\n",
       "\n",
       "    .dataframe tbody tr th {\n",
       "        vertical-align: top;\n",
       "    }\n",
       "\n",
       "    .dataframe thead th {\n",
       "        text-align: right;\n",
       "    }\n",
       "</style>\n",
       "<table border=\"1\" class=\"dataframe\">\n",
       "  <thead>\n",
       "    <tr style=\"text-align: right;\">\n",
       "      <th></th>\n",
       "      <th>Los Angeles</th>\n",
       "      <th>Miami</th>\n",
       "      <th>London</th>\n",
       "      <th>Amsterdam</th>\n",
       "      <th>Beijing</th>\n",
       "      <th>Sydney</th>\n",
       "      <th>lat</th>\n",
       "      <th>lon</th>\n",
       "      <th>min_dst</th>\n",
       "    </tr>\n",
       "  </thead>\n",
       "  <tbody>\n",
       "    <tr>\n",
       "      <th>397</th>\n",
       "      <td>277.748513</td>\n",
       "      <td>239.108983</td>\n",
       "      <td>173.702814</td>\n",
       "      <td>169.843186</td>\n",
       "      <td>80.806596</td>\n",
       "      <td>0.007835</td>\n",
       "      <td>-33.860630</td>\n",
       "      <td>151.204776</td>\n",
       "      <td>0.007835</td>\n",
       "    </tr>\n",
       "    <tr>\n",
       "      <th>366</th>\n",
       "      <td>124.481781</td>\n",
       "      <td>89.243306</td>\n",
       "      <td>5.043393</td>\n",
       "      <td>0.009353</td>\n",
       "      <td>112.895557</td>\n",
       "      <td>169.838226</td>\n",
       "      <td>52.372964</td>\n",
       "      <td>4.892317</td>\n",
       "      <td>0.009353</td>\n",
       "    </tr>\n",
       "    <tr>\n",
       "      <th>406</th>\n",
       "      <td>38.686226</td>\n",
       "      <td>0.022674</td>\n",
       "      <td>84.245501</td>\n",
       "      <td>89.239728</td>\n",
       "      <td>197.817651</td>\n",
       "      <td>239.100714</td>\n",
       "      <td>25.845672</td>\n",
       "      <td>-80.318891</td>\n",
       "      <td>0.022674</td>\n",
       "    </tr>\n",
       "    <tr>\n",
       "      <th>57</th>\n",
       "      <td>119.390298</td>\n",
       "      <td>84.196071</td>\n",
       "      <td>0.050058</td>\n",
       "      <td>5.086603</td>\n",
       "      <td>117.788602</td>\n",
       "      <td>173.750558</td>\n",
       "      <td>51.502991</td>\n",
       "      <td>-0.125537</td>\n",
       "      <td>0.050058</td>\n",
       "    </tr>\n",
       "    <tr>\n",
       "      <th>52</th>\n",
       "      <td>0.070848</td>\n",
       "      <td>38.649627</td>\n",
       "      <td>119.391731</td>\n",
       "      <td>124.427390</td>\n",
       "      <td>235.250702</td>\n",
       "      <td>277.726422</td>\n",
       "      <td>33.809878</td>\n",
       "      <td>-118.148924</td>\n",
       "      <td>0.070848</td>\n",
       "    </tr>\n",
       "    <tr>\n",
       "      <th>...</th>\n",
       "      <td>...</td>\n",
       "      <td>...</td>\n",
       "      <td>...</td>\n",
       "      <td>...</td>\n",
       "      <td>...</td>\n",
       "      <td>...</td>\n",
       "      <td>...</td>\n",
       "      <td>...</td>\n",
       "      <td>...</td>\n",
       "    </tr>\n",
       "    <tr>\n",
       "      <th>105</th>\n",
       "      <td>91.667105</td>\n",
       "      <td>59.806393</td>\n",
       "      <td>88.323109</td>\n",
       "      <td>91.759329</td>\n",
       "      <td>175.350282</td>\n",
       "      <td>198.112273</td>\n",
       "      <td>-23.549518</td>\n",
       "      <td>-46.638219</td>\n",
       "      <td>59.806393</td>\n",
       "    </tr>\n",
       "    <tr>\n",
       "      <th>413</th>\n",
       "      <td>82.342126</td>\n",
       "      <td>60.090305</td>\n",
       "      <td>110.374252</td>\n",
       "      <td>114.262928</td>\n",
       "      <td>201.233824</td>\n",
       "      <td>221.776316</td>\n",
       "      <td>-33.425741</td>\n",
       "      <td>-70.570740</td>\n",
       "      <td>60.090305</td>\n",
       "    </tr>\n",
       "    <tr>\n",
       "      <th>249</th>\n",
       "      <td>93.976814</td>\n",
       "      <td>61.287238</td>\n",
       "      <td>86.005155</td>\n",
       "      <td>89.333880</td>\n",
       "      <td>171.919316</td>\n",
       "      <td>194.723684</td>\n",
       "      <td>-22.903539</td>\n",
       "      <td>-43.209587</td>\n",
       "      <td>61.287238</td>\n",
       "    </tr>\n",
       "    <tr>\n",
       "      <th>101</th>\n",
       "      <td>158.414912</td>\n",
       "      <td>119.741616</td>\n",
       "      <td>63.428113</td>\n",
       "      <td>61.450391</td>\n",
       "      <td>89.754665</td>\n",
       "      <td>119.493762</td>\n",
       "      <td>-0.301226</td>\n",
       "      <td>36.522964</td>\n",
       "      <td>61.450391</td>\n",
       "    </tr>\n",
       "    <tr>\n",
       "      <th>425</th>\n",
       "      <td>90.838294</td>\n",
       "      <td>64.340495</td>\n",
       "      <td>103.991653</td>\n",
       "      <td>107.558619</td>\n",
       "      <td>190.370130</td>\n",
       "      <td>209.578318</td>\n",
       "      <td>-34.611996</td>\n",
       "      <td>-58.371865</td>\n",
       "      <td>64.340495</td>\n",
       "    </tr>\n",
       "  </tbody>\n",
       "</table>\n",
       "<p>592 rows × 9 columns</p>\n",
       "</div>"
      ],
      "text/plain": [
       "     Los Angeles       Miami      London   Amsterdam     Beijing      Sydney  \\\n",
       "397   277.748513  239.108983  173.702814  169.843186   80.806596    0.007835   \n",
       "366   124.481781   89.243306    5.043393    0.009353  112.895557  169.838226   \n",
       "406    38.686226    0.022674   84.245501   89.239728  197.817651  239.100714   \n",
       "57    119.390298   84.196071    0.050058    5.086603  117.788602  173.750558   \n",
       "52      0.070848   38.649627  119.391731  124.427390  235.250702  277.726422   \n",
       "..           ...         ...         ...         ...         ...         ...   \n",
       "105    91.667105   59.806393   88.323109   91.759329  175.350282  198.112273   \n",
       "413    82.342126   60.090305  110.374252  114.262928  201.233824  221.776316   \n",
       "249    93.976814   61.287238   86.005155   89.333880  171.919316  194.723684   \n",
       "101   158.414912  119.741616   63.428113   61.450391   89.754665  119.493762   \n",
       "425    90.838294   64.340495  103.991653  107.558619  190.370130  209.578318   \n",
       "\n",
       "           lat         lon    min_dst  \n",
       "397 -33.860630  151.204776   0.007835  \n",
       "366  52.372964    4.892317   0.009353  \n",
       "406  25.845672  -80.318891   0.022674  \n",
       "57   51.502991   -0.125537   0.050058  \n",
       "52   33.809878 -118.148924   0.070848  \n",
       "..         ...         ...        ...  \n",
       "105 -23.549518  -46.638219  59.806393  \n",
       "413 -33.425741  -70.570740  60.090305  \n",
       "249 -22.903539  -43.209587  61.287238  \n",
       "101  -0.301226   36.522964  61.450391  \n",
       "425 -34.611996  -58.371865  64.340495  \n",
       "\n",
       "[592 rows x 9 columns]"
      ]
     },
     "execution_count": 139,
     "metadata": {},
     "output_type": "execute_result"
    }
   ],
   "source": [
    "dst.sort_values(by='min_dst')"
   ]
  },
  {
   "cell_type": "code",
   "execution_count": null,
   "metadata": {},
   "outputs": [],
   "source": []
  },
  {
   "cell_type": "code",
   "execution_count": null,
   "metadata": {},
   "outputs": [],
   "source": []
  },
  {
   "cell_type": "code",
   "execution_count": null,
   "metadata": {},
   "outputs": [],
   "source": []
  },
  {
   "cell_type": "code",
   "execution_count": null,
   "metadata": {},
   "outputs": [],
   "source": []
  },
  {
   "cell_type": "code",
   "execution_count": null,
   "metadata": {},
   "outputs": [],
   "source": []
  }
 ],
 "metadata": {
  "kernelspec": {
   "display_name": "Python 3",
   "language": "python",
   "name": "python3"
  },
  "language_info": {
   "codemirror_mode": {
    "name": "ipython",
    "version": 3
   },
   "file_extension": ".py",
   "mimetype": "text/x-python",
   "name": "python",
   "nbconvert_exporter": "python",
   "pygments_lexer": "ipython3",
   "version": "3.7.6"
  }
 },
 "nbformat": 4,
 "nbformat_minor": 4
}
