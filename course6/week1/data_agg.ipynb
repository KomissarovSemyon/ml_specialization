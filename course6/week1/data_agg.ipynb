{
 "cells": [
  {
   "cell_type": "code",
   "execution_count": 1,
   "metadata": {},
   "outputs": [
    {
     "name": "stderr",
     "output_type": "stream",
     "text": [
      "/Users/s.komissarov/opt/anaconda3/envs/test/lib/python3.7/site-packages/statsmodels/tools/_testing.py:19: FutureWarning: pandas.util.testing is deprecated. Use the functions in the public API at pandas.testing instead.\n",
      "  import pandas.util.testing as tm\n"
     ]
    }
   ],
   "source": [
    "import logging\n",
    "import sys\n",
    "import json\n",
    "from itertools import product\n",
    "import glob\n",
    "import os\n",
    "import gc\n",
    "import datetime\n",
    "\n",
    "import pandas as pd\n",
    "import numpy as np\n",
    "import seaborn as sns\n",
    "from matplotlib import pyplot as plt\n",
    "from shapely.geometry import Polygon, box, MultiPolygon\n",
    "from keplergl import KeplerGl\n",
    "from tqdm.notebook import tqdm\n",
    "from scipy import stats\n",
    "\n",
    "logging.basicConfig(format='%(asctime)s [%(levelname).7s] %(message)s', datefmt='%d/%m %H:%M:%S', level=logging.INFO)"
   ]
  },
  {
   "cell_type": "code",
   "execution_count": 2,
   "metadata": {},
   "outputs": [],
   "source": [
    "# с 2015 года появлется ещё 1 столбец\n",
    "cols_18 = ['vendor', 'pickup_time', 'dropoff_time', 'passenger_count', 'trip_distance',\n",
    "           'start_lon', 'start_lat', 'rate', 'store_and_forward', 'end_lon', 'end_lat',\n",
    "           'payment_type', 'fare_amount', 'surcharge', 'tax', 'tip_amount', 'tolls_amount', 'total_amount']\n",
    "\n",
    "cols_19 = ['vendor', 'pickup_time', 'dropoff_time', 'passenger_count', 'trip_distance',\n",
    "           'start_lon', 'start_lat', 'rate', 'store_and_forward', 'end_lon', 'end_lat',\n",
    "           'payment_type', 'fare_amount', 'surcharge', 'tax', 'tip_amount', 'tolls_amount', \n",
    "           'improvement_surcharge', 'total_amount']\n",
    "\n",
    "def read_data(file_path):\n",
    "    file = file_path.replace(' ', '\\ ').split('/')[-1]\n",
    "    y = int(file[file.find('20'):file.find('20') + 4])\n",
    "    if y < 2015:\n",
    "        columns = cols_18\n",
    "    else:\n",
    "        columns = cols_19\n",
    "    logging.info('Reading {}'.format(file))\n",
    "    data = pd.read_csv(file_path, names=columns, skiprows=1, #nrows=1000000,\n",
    "                       parse_dates=['pickup_time', 'dropoff_time'], dayfirst=True)\n",
    "    logging.info('{} shape = {}'.format(file, data.shape))\n",
    "    return data\n",
    "    "
   ]
  },
  {
   "cell_type": "code",
   "execution_count": 3,
   "metadata": {},
   "outputs": [],
   "source": [
    "regions = pd.read_csv('../data/regions.csv', sep=';', index_col=0)"
   ]
  },
  {
   "cell_type": "code",
   "execution_count": 4,
   "metadata": {},
   "outputs": [],
   "source": [
    "region_mapping = {}\n",
    "for i, row in regions.iterrows():\n",
    "    region_mapping[(row['west'], row['south'])] = i"
   ]
  },
  {
   "cell_type": "markdown",
   "metadata": {},
   "source": [
    "### Preproccess"
   ]
  },
  {
   "cell_type": "code",
   "execution_count": 5,
   "metadata": {},
   "outputs": [
    {
     "name": "stderr",
     "output_type": "stream",
     "text": [
      "08/05 14:57:07 [INFO] Reading yellow_tripdata_2016-05.csv\n",
      "08/05 14:58:14 [INFO] yellow_tripdata_2016-05.csv shape = (11836853, 19)\n"
     ]
    }
   ],
   "source": [
    "data = read_data('/Volumes/Untitled 1/ml_specialization/data/yellow_tripdata_2016-05.csv')"
   ]
  },
  {
   "cell_type": "code",
   "execution_count": 6,
   "metadata": {},
   "outputs": [],
   "source": [
    "data = data[(data['trip_distance'] > 0) &\n",
    "            (data['passenger_count'] > 0) &\n",
    "            (data['dropoff_time'] > data['pickup_time'])]"
   ]
  },
  {
   "cell_type": "code",
   "execution_count": 7,
   "metadata": {},
   "outputs": [
    {
     "data": {
      "text/html": [
       "<div>\n",
       "<style scoped>\n",
       "    .dataframe tbody tr th:only-of-type {\n",
       "        vertical-align: middle;\n",
       "    }\n",
       "\n",
       "    .dataframe tbody tr th {\n",
       "        vertical-align: top;\n",
       "    }\n",
       "\n",
       "    .dataframe thead th {\n",
       "        text-align: right;\n",
       "    }\n",
       "</style>\n",
       "<table border=\"1\" class=\"dataframe\">\n",
       "  <thead>\n",
       "    <tr style=\"text-align: right;\">\n",
       "      <th></th>\n",
       "      <th>vendor</th>\n",
       "      <th>pickup_time</th>\n",
       "      <th>dropoff_time</th>\n",
       "      <th>passenger_count</th>\n",
       "      <th>trip_distance</th>\n",
       "      <th>start_lon</th>\n",
       "      <th>start_lat</th>\n",
       "      <th>rate</th>\n",
       "      <th>store_and_forward</th>\n",
       "      <th>end_lon</th>\n",
       "      <th>end_lat</th>\n",
       "      <th>payment_type</th>\n",
       "      <th>fare_amount</th>\n",
       "      <th>surcharge</th>\n",
       "      <th>tax</th>\n",
       "      <th>tip_amount</th>\n",
       "      <th>tolls_amount</th>\n",
       "      <th>improvement_surcharge</th>\n",
       "      <th>total_amount</th>\n",
       "    </tr>\n",
       "  </thead>\n",
       "  <tbody>\n",
       "    <tr>\n",
       "      <th>0</th>\n",
       "      <td>1</td>\n",
       "      <td>2016-05-01 00:00:00</td>\n",
       "      <td>2016-05-01 00:17:31</td>\n",
       "      <td>1</td>\n",
       "      <td>3.60</td>\n",
       "      <td>-73.985901</td>\n",
       "      <td>40.768040</td>\n",
       "      <td>1</td>\n",
       "      <td>N</td>\n",
       "      <td>-73.983986</td>\n",
       "      <td>40.730099</td>\n",
       "      <td>1</td>\n",
       "      <td>15.0</td>\n",
       "      <td>0.5</td>\n",
       "      <td>0.5</td>\n",
       "      <td>1.50</td>\n",
       "      <td>0.0</td>\n",
       "      <td>0.3</td>\n",
       "      <td>17.80</td>\n",
       "    </tr>\n",
       "    <tr>\n",
       "      <th>1</th>\n",
       "      <td>2</td>\n",
       "      <td>2016-05-01 00:00:00</td>\n",
       "      <td>2016-05-01 00:07:31</td>\n",
       "      <td>1</td>\n",
       "      <td>1.68</td>\n",
       "      <td>-73.991577</td>\n",
       "      <td>40.744751</td>\n",
       "      <td>1</td>\n",
       "      <td>N</td>\n",
       "      <td>-73.975700</td>\n",
       "      <td>40.765469</td>\n",
       "      <td>1</td>\n",
       "      <td>7.5</td>\n",
       "      <td>0.5</td>\n",
       "      <td>0.5</td>\n",
       "      <td>0.88</td>\n",
       "      <td>0.0</td>\n",
       "      <td>0.3</td>\n",
       "      <td>9.68</td>\n",
       "    </tr>\n",
       "    <tr>\n",
       "      <th>2</th>\n",
       "      <td>2</td>\n",
       "      <td>2016-05-01 00:00:00</td>\n",
       "      <td>2016-05-01 00:07:01</td>\n",
       "      <td>6</td>\n",
       "      <td>1.09</td>\n",
       "      <td>-73.993073</td>\n",
       "      <td>40.741573</td>\n",
       "      <td>1</td>\n",
       "      <td>N</td>\n",
       "      <td>-73.980995</td>\n",
       "      <td>40.744633</td>\n",
       "      <td>1</td>\n",
       "      <td>6.5</td>\n",
       "      <td>0.5</td>\n",
       "      <td>0.5</td>\n",
       "      <td>1.56</td>\n",
       "      <td>0.0</td>\n",
       "      <td>0.3</td>\n",
       "      <td>9.36</td>\n",
       "    </tr>\n",
       "    <tr>\n",
       "      <th>3</th>\n",
       "      <td>2</td>\n",
       "      <td>2016-05-01 00:00:00</td>\n",
       "      <td>2016-05-01 00:19:47</td>\n",
       "      <td>1</td>\n",
       "      <td>4.21</td>\n",
       "      <td>-73.991943</td>\n",
       "      <td>40.684601</td>\n",
       "      <td>1</td>\n",
       "      <td>N</td>\n",
       "      <td>-74.002258</td>\n",
       "      <td>40.733002</td>\n",
       "      <td>1</td>\n",
       "      <td>17.0</td>\n",
       "      <td>0.5</td>\n",
       "      <td>0.5</td>\n",
       "      <td>3.66</td>\n",
       "      <td>0.0</td>\n",
       "      <td>0.3</td>\n",
       "      <td>21.96</td>\n",
       "    </tr>\n",
       "    <tr>\n",
       "      <th>4</th>\n",
       "      <td>2</td>\n",
       "      <td>2016-05-01 00:00:00</td>\n",
       "      <td>2016-05-01 00:06:39</td>\n",
       "      <td>1</td>\n",
       "      <td>0.56</td>\n",
       "      <td>-74.005280</td>\n",
       "      <td>40.740192</td>\n",
       "      <td>1</td>\n",
       "      <td>N</td>\n",
       "      <td>-73.997498</td>\n",
       "      <td>40.737564</td>\n",
       "      <td>1</td>\n",
       "      <td>6.0</td>\n",
       "      <td>0.5</td>\n",
       "      <td>0.5</td>\n",
       "      <td>1.46</td>\n",
       "      <td>0.0</td>\n",
       "      <td>0.3</td>\n",
       "      <td>8.76</td>\n",
       "    </tr>\n",
       "    <tr>\n",
       "      <th>...</th>\n",
       "      <td>...</td>\n",
       "      <td>...</td>\n",
       "      <td>...</td>\n",
       "      <td>...</td>\n",
       "      <td>...</td>\n",
       "      <td>...</td>\n",
       "      <td>...</td>\n",
       "      <td>...</td>\n",
       "      <td>...</td>\n",
       "      <td>...</td>\n",
       "      <td>...</td>\n",
       "      <td>...</td>\n",
       "      <td>...</td>\n",
       "      <td>...</td>\n",
       "      <td>...</td>\n",
       "      <td>...</td>\n",
       "      <td>...</td>\n",
       "      <td>...</td>\n",
       "      <td>...</td>\n",
       "    </tr>\n",
       "    <tr>\n",
       "      <th>11836837</th>\n",
       "      <td>2</td>\n",
       "      <td>2016-05-31 23:53:01</td>\n",
       "      <td>2016-06-01 00:00:24</td>\n",
       "      <td>2</td>\n",
       "      <td>1.89</td>\n",
       "      <td>-73.947876</td>\n",
       "      <td>40.774818</td>\n",
       "      <td>1</td>\n",
       "      <td>N</td>\n",
       "      <td>-73.974274</td>\n",
       "      <td>40.779797</td>\n",
       "      <td>1</td>\n",
       "      <td>8.0</td>\n",
       "      <td>0.5</td>\n",
       "      <td>0.5</td>\n",
       "      <td>1.86</td>\n",
       "      <td>0.0</td>\n",
       "      <td>0.3</td>\n",
       "      <td>11.16</td>\n",
       "    </tr>\n",
       "    <tr>\n",
       "      <th>11836838</th>\n",
       "      <td>2</td>\n",
       "      <td>2016-05-31 23:53:02</td>\n",
       "      <td>2016-06-01 00:19:36</td>\n",
       "      <td>1</td>\n",
       "      <td>15.21</td>\n",
       "      <td>-73.789467</td>\n",
       "      <td>40.646942</td>\n",
       "      <td>1</td>\n",
       "      <td>N</td>\n",
       "      <td>-73.893929</td>\n",
       "      <td>40.731426</td>\n",
       "      <td>1</td>\n",
       "      <td>42.0</td>\n",
       "      <td>0.5</td>\n",
       "      <td>0.5</td>\n",
       "      <td>8.66</td>\n",
       "      <td>0.0</td>\n",
       "      <td>0.3</td>\n",
       "      <td>51.96</td>\n",
       "    </tr>\n",
       "    <tr>\n",
       "      <th>11836839</th>\n",
       "      <td>2</td>\n",
       "      <td>2016-05-31 23:53:02</td>\n",
       "      <td>2016-05-31 23:59:07</td>\n",
       "      <td>1</td>\n",
       "      <td>1.80</td>\n",
       "      <td>-74.008659</td>\n",
       "      <td>40.719723</td>\n",
       "      <td>1</td>\n",
       "      <td>N</td>\n",
       "      <td>-73.999580</td>\n",
       "      <td>40.743649</td>\n",
       "      <td>1</td>\n",
       "      <td>7.5</td>\n",
       "      <td>0.5</td>\n",
       "      <td>0.5</td>\n",
       "      <td>1.76</td>\n",
       "      <td>0.0</td>\n",
       "      <td>0.3</td>\n",
       "      <td>10.56</td>\n",
       "    </tr>\n",
       "    <tr>\n",
       "      <th>11836840</th>\n",
       "      <td>2</td>\n",
       "      <td>2016-05-31 23:53:03</td>\n",
       "      <td>2016-06-01 00:05:47</td>\n",
       "      <td>1</td>\n",
       "      <td>2.28</td>\n",
       "      <td>-73.981644</td>\n",
       "      <td>40.758862</td>\n",
       "      <td>1</td>\n",
       "      <td>N</td>\n",
       "      <td>-73.952637</td>\n",
       "      <td>40.766491</td>\n",
       "      <td>1</td>\n",
       "      <td>11.0</td>\n",
       "      <td>0.5</td>\n",
       "      <td>0.5</td>\n",
       "      <td>2.46</td>\n",
       "      <td>0.0</td>\n",
       "      <td>0.3</td>\n",
       "      <td>14.76</td>\n",
       "    </tr>\n",
       "    <tr>\n",
       "      <th>11836841</th>\n",
       "      <td>1</td>\n",
       "      <td>2016-05-19 03:29:16</td>\n",
       "      <td>2016-05-19 03:31:24</td>\n",
       "      <td>1</td>\n",
       "      <td>0.60</td>\n",
       "      <td>-73.948959</td>\n",
       "      <td>40.586658</td>\n",
       "      <td>1</td>\n",
       "      <td>Y</td>\n",
       "      <td>-73.948570</td>\n",
       "      <td>40.594837</td>\n",
       "      <td>2</td>\n",
       "      <td>4.0</td>\n",
       "      <td>0.5</td>\n",
       "      <td>0.5</td>\n",
       "      <td>0.00</td>\n",
       "      <td>0.0</td>\n",
       "      <td>0.3</td>\n",
       "      <td>5.30</td>\n",
       "    </tr>\n",
       "  </tbody>\n",
       "</table>\n",
       "<p>11763366 rows × 19 columns</p>\n",
       "</div>"
      ],
      "text/plain": [
       "          vendor         pickup_time        dropoff_time  passenger_count  \\\n",
       "0              1 2016-05-01 00:00:00 2016-05-01 00:17:31                1   \n",
       "1              2 2016-05-01 00:00:00 2016-05-01 00:07:31                1   \n",
       "2              2 2016-05-01 00:00:00 2016-05-01 00:07:01                6   \n",
       "3              2 2016-05-01 00:00:00 2016-05-01 00:19:47                1   \n",
       "4              2 2016-05-01 00:00:00 2016-05-01 00:06:39                1   \n",
       "...          ...                 ...                 ...              ...   \n",
       "11836837       2 2016-05-31 23:53:01 2016-06-01 00:00:24                2   \n",
       "11836838       2 2016-05-31 23:53:02 2016-06-01 00:19:36                1   \n",
       "11836839       2 2016-05-31 23:53:02 2016-05-31 23:59:07                1   \n",
       "11836840       2 2016-05-31 23:53:03 2016-06-01 00:05:47                1   \n",
       "11836841       1 2016-05-19 03:29:16 2016-05-19 03:31:24                1   \n",
       "\n",
       "          trip_distance  start_lon  start_lat  rate store_and_forward  \\\n",
       "0                  3.60 -73.985901  40.768040     1                 N   \n",
       "1                  1.68 -73.991577  40.744751     1                 N   \n",
       "2                  1.09 -73.993073  40.741573     1                 N   \n",
       "3                  4.21 -73.991943  40.684601     1                 N   \n",
       "4                  0.56 -74.005280  40.740192     1                 N   \n",
       "...                 ...        ...        ...   ...               ...   \n",
       "11836837           1.89 -73.947876  40.774818     1                 N   \n",
       "11836838          15.21 -73.789467  40.646942     1                 N   \n",
       "11836839           1.80 -74.008659  40.719723     1                 N   \n",
       "11836840           2.28 -73.981644  40.758862     1                 N   \n",
       "11836841           0.60 -73.948959  40.586658     1                 Y   \n",
       "\n",
       "            end_lon    end_lat  payment_type  fare_amount  surcharge  tax  \\\n",
       "0        -73.983986  40.730099             1         15.0        0.5  0.5   \n",
       "1        -73.975700  40.765469             1          7.5        0.5  0.5   \n",
       "2        -73.980995  40.744633             1          6.5        0.5  0.5   \n",
       "3        -74.002258  40.733002             1         17.0        0.5  0.5   \n",
       "4        -73.997498  40.737564             1          6.0        0.5  0.5   \n",
       "...             ...        ...           ...          ...        ...  ...   \n",
       "11836837 -73.974274  40.779797             1          8.0        0.5  0.5   \n",
       "11836838 -73.893929  40.731426             1         42.0        0.5  0.5   \n",
       "11836839 -73.999580  40.743649             1          7.5        0.5  0.5   \n",
       "11836840 -73.952637  40.766491             1         11.0        0.5  0.5   \n",
       "11836841 -73.948570  40.594837             2          4.0        0.5  0.5   \n",
       "\n",
       "          tip_amount  tolls_amount  improvement_surcharge  total_amount  \n",
       "0               1.50           0.0                    0.3         17.80  \n",
       "1               0.88           0.0                    0.3          9.68  \n",
       "2               1.56           0.0                    0.3          9.36  \n",
       "3               3.66           0.0                    0.3         21.96  \n",
       "4               1.46           0.0                    0.3          8.76  \n",
       "...              ...           ...                    ...           ...  \n",
       "11836837        1.86           0.0                    0.3         11.16  \n",
       "11836838        8.66           0.0                    0.3         51.96  \n",
       "11836839        1.76           0.0                    0.3         10.56  \n",
       "11836840        2.46           0.0                    0.3         14.76  \n",
       "11836841        0.00           0.0                    0.3          5.30  \n",
       "\n",
       "[11763366 rows x 19 columns]"
      ]
     },
     "execution_count": 7,
     "metadata": {},
     "output_type": "execute_result"
    }
   ],
   "source": [
    "data"
   ]
  },
  {
   "cell_type": "code",
   "execution_count": 8,
   "metadata": {},
   "outputs": [],
   "source": [
    "bins_lon = sorted(list(set(regions['west'].unique().tolist() + regions['east'].unique().tolist())))\n",
    "bins_lat = sorted(list(set(regions['south'].unique().tolist() + regions['north'].unique().tolist())))"
   ]
  },
  {
   "cell_type": "code",
   "execution_count": 9,
   "metadata": {},
   "outputs": [
    {
     "name": "stdout",
     "output_type": "stream",
     "text": [
      "CPU times: user 7.49 s, sys: 5.98 s, total: 13.5 s\n",
      "Wall time: 19.4 s\n"
     ]
    },
    {
     "data": {
      "text/plain": [
       "0"
      ]
     },
     "execution_count": 9,
     "metadata": {},
     "output_type": "execute_result"
    }
   ],
   "source": [
    "%%time\n",
    "data['start_lon_bin'] = pd.cut(data['start_lon'], bins=bins_lon,\n",
    "                               precision=25, include_lowest=True)\n",
    "data['start_lat_bin'] = pd.cut(data['start_lat'], bins=bins_lat,\n",
    "                               precision=25, include_lowest=True)\n",
    "data['hour'] = data['pickup_time'].dt.hour\n",
    "data['date'] = data['pickup_time'].dt.date\n",
    "data = data[data['start_lon_bin'].notna() & data['start_lat_bin'].notna()]\n",
    "gc.collect()"
   ]
  },
  {
   "cell_type": "code",
   "execution_count": 10,
   "metadata": {},
   "outputs": [
    {
     "data": {
      "application/vnd.jupyter.widget-view+json": {
       "model_id": "da83b759a3c4405fadd120b19dba690a",
       "version_major": 2,
       "version_minor": 0
      },
      "text/plain": [
       "HBox(children=(FloatProgress(value=1.0, bar_style='info', max=1.0), HTML(value='')))"
      ]
     },
     "metadata": {},
     "output_type": "display_data"
    },
    {
     "name": "stdout",
     "output_type": "stream",
     "text": [
      "\n"
     ]
    },
    {
     "name": "stderr",
     "output_type": "stream",
     "text": [
      "/Users/s.komissarov/opt/anaconda3/envs/test/lib/python3.7/site-packages/ipykernel_launcher.py:4: SettingWithCopyWarning: \n",
      "A value is trying to be set on a copy of a slice from a DataFrame.\n",
      "Try using .loc[row_indexer,col_indexer] = value instead\n",
      "\n",
      "See the caveats in the documentation: https://pandas.pydata.org/pandas-docs/stable/user_guide/indexing.html#returning-a-view-versus-a-copy\n",
      "  after removing the cwd from sys.path.\n"
     ]
    }
   ],
   "source": [
    "region_id = []\n",
    "for lon, lat in tqdm(zip(data['start_lon_bin'], data['start_lat_bin'])):\n",
    "    region_id.append(region_mapping[(lon.left, lat.left)])\n",
    "data['region_id'] = region_id    "
   ]
  },
  {
   "cell_type": "code",
   "execution_count": 11,
   "metadata": {},
   "outputs": [],
   "source": [
    "data_agg = data.groupby(['region_id', 'date', 'hour']).size().rename('count')"
   ]
  },
  {
   "cell_type": "code",
   "execution_count": 12,
   "metadata": {},
   "outputs": [],
   "source": [
    "min_date = data['date'].min()\n",
    "max_date = data['date'].max()"
   ]
  },
  {
   "cell_type": "code",
   "execution_count": 13,
   "metadata": {},
   "outputs": [
    {
     "data": {
      "text/plain": [
       "(datetime.date(2016, 5, 1), datetime.date(2016, 5, 31))"
      ]
     },
     "execution_count": 13,
     "metadata": {},
     "output_type": "execute_result"
    }
   ],
   "source": [
    "min_date, max_date"
   ]
  },
  {
   "cell_type": "code",
   "execution_count": 14,
   "metadata": {},
   "outputs": [],
   "source": [
    "data_range = pd.DataFrame(pd.date_range(min_date, max_date + datetime.timedelta(days=1), freq='1H')[:-1],\n",
    "                          columns=['datetime'])\n",
    "regions_df = pd.DataFrame(list(range(1, 2501)), columns=['region_id'])\n",
    "data_range['tmp'] = 1\n",
    "regions_df['tmp'] = 1\n",
    "\n",
    "timeseries = pd.merge(data_range, regions_df, how='outer').drop('tmp', axis=1)\n",
    "timeseries['date'] = timeseries['datetime'].dt.date\n",
    "timeseries['hour'] = timeseries['datetime'].dt.hour\n",
    "timeseries = timeseries.set_index(['region_id', 'date', 'hour'])"
   ]
  },
  {
   "cell_type": "code",
   "execution_count": 15,
   "metadata": {},
   "outputs": [],
   "source": [
    "data_full = timeseries.join(data_agg) \\\n",
    "                      .fillna(0) \\\n",
    "                      .sort_values(by='count', ascending=False) \\\n",
    "                      .reset_index()"
   ]
  },
  {
   "cell_type": "code",
   "execution_count": 16,
   "metadata": {},
   "outputs": [],
   "source": [
    "esb_coords = (-73.985594, 40.748302)"
   ]
  },
  {
   "cell_type": "code",
   "execution_count": 17,
   "metadata": {},
   "outputs": [
    {
     "data": {
      "text/html": [
       "<div>\n",
       "<style scoped>\n",
       "    .dataframe tbody tr th:only-of-type {\n",
       "        vertical-align: middle;\n",
       "    }\n",
       "\n",
       "    .dataframe tbody tr th {\n",
       "        vertical-align: top;\n",
       "    }\n",
       "\n",
       "    .dataframe thead th {\n",
       "        text-align: right;\n",
       "    }\n",
       "</style>\n",
       "<table border=\"1\" class=\"dataframe\">\n",
       "  <thead>\n",
       "    <tr style=\"text-align: right;\">\n",
       "      <th></th>\n",
       "      <th>west</th>\n",
       "      <th>east</th>\n",
       "      <th>south</th>\n",
       "      <th>north</th>\n",
       "    </tr>\n",
       "    <tr>\n",
       "      <th>region</th>\n",
       "      <th></th>\n",
       "      <th></th>\n",
       "      <th></th>\n",
       "      <th></th>\n",
       "    </tr>\n",
       "  </thead>\n",
       "  <tbody>\n",
       "    <tr>\n",
       "      <th>1231</th>\n",
       "      <td>-73.988912</td>\n",
       "      <td>-73.9778</td>\n",
       "      <td>40.747766</td>\n",
       "      <td>40.756154</td>\n",
       "    </tr>\n",
       "  </tbody>\n",
       "</table>\n",
       "</div>"
      ],
      "text/plain": [
       "             west     east      south      north\n",
       "region                                          \n",
       "1231   -73.988912 -73.9778  40.747766  40.756154"
      ]
     },
     "execution_count": 17,
     "metadata": {},
     "output_type": "execute_result"
    }
   ],
   "source": [
    "regions[(regions['west'] < esb_coords[0]) &\n",
    "        (regions['east'] > esb_coords[0]) &\n",
    "        (regions['south'] < esb_coords[1]) &\n",
    "        (regions['north'] > esb_coords[1])]"
   ]
  },
  {
   "cell_type": "code",
   "execution_count": 18,
   "metadata": {},
   "outputs": [],
   "source": [
    "data_esb = data_full[data_full['region_id'] == 1231]"
   ]
  },
  {
   "cell_type": "code",
   "execution_count": 19,
   "metadata": {},
   "outputs": [
    {
     "data": {
      "text/plain": [
       "Text(0.5, 1.0, 'Поздки возле Empire State Building')"
      ]
     },
     "execution_count": 19,
     "metadata": {},
     "output_type": "execute_result"
    },
    {
     "data": {
      "image/png": "[encoded data removed]",
      "text/plain": [
       "<Figure size 1440x360 with 1 Axes>"
      ]
     },
     "metadata": {
      "needs_background": "light"
     },
     "output_type": "display_data"
    }
   ],
   "source": [
    "plt.figure(figsize=(20, 5))\n",
    "sns.lineplot(data_esb['datetime'], data_esb['count'])\n",
    "plt.title('Поздки возле Empire State Building')"
   ]
  },
  {
   "cell_type": "code",
   "execution_count": 20,
   "metadata": {},
   "outputs": [
    {
     "name": "stdout",
     "output_type": "stream",
     "text": [
      "Пар час-ячейка без поездок 1718238\n"
     ]
    }
   ],
   "source": [
    "print('Пар час-ячейка без поездок {}'.format((data_full['count'] == 0).sum()))"
   ]
  },
  {
   "cell_type": "code",
   "execution_count": null,
   "metadata": {},
   "outputs": [],
   "source": []
  }
 ],
 "metadata": {
  "kernelspec": {
   "display_name": "Python 3",
   "language": "python",
   "name": "python3"
  },
  "language_info": {
   "codemirror_mode": {
    "name": "ipython",
    "version": 3
   },
   "file_extension": ".py",
   "mimetype": "text/x-python",
   "name": "python",
   "nbconvert_exporter": "python",
   "pygments_lexer": "ipython3",
   "version": "3.7.6"
  }
 },
 "nbformat": 4,
 "nbformat_minor": 4
}
